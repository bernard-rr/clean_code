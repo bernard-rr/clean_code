{
 "cells": [
  {
   "cell_type": "code",
   "execution_count": 7,
   "metadata": {},
   "outputs": [
    {
     "name": "stdout",
     "output_type": "stream",
     "text": [
      "Matrix multiplication result:\n",
      "[[ 58  64]\n",
      " [139 154]]\n"
     ]
    }
   ],
   "source": [
    "import numpy as np\n",
    "\n",
    "\n",
    "def multiply_matrices(matrix1, matrix2):\n",
    "    \"\"\"\n",
    "    Multiplies two matrices using numpy's dot function.\n",
    "\n",
    "    Args:\n",
    "    matrix1 (ndarray): The first matrix to multiply.\n",
    "    matrix2 (ndarray): The second matrix to multiply.\n",
    "\n",
    "    Returns:\n",
    "    ndarray: The result of the matrix multiplication, or None if the matrices have incompatible dimensions.\n",
    "    \"\"\"\n",
    "    try:\n",
    "        result = np.dot(matrix1, matrix2)\n",
    "        return result\n",
    "    except ValueError as e:\n",
    "        print(f\"Error: {e}\")\n",
    "        return None\n",
    "\n",
    "\n",
    "# Creating matrices with incompatible dimensions\n",
    "matrix_2x3 = np.array([\n",
    "    [1, 2, 3],\n",
    "    [4, 5, 6]\n",
    "])\n",
    "\n",
    "matrix_3x2 = np.array([\n",
    "    [7, 8],\n",
    "    [9, 10],\n",
    "    [11, 12]\n",
    "])\n",
    "\n",
    "# Attempting matrix multiplication with incompatible dimensions\n",
    "result = multiply_matrices(matrix_2x3, matrix_3x2)\n",
    "\n",
    "if result is None:\n",
    "    print(\"Matrix multiplication failed due to dimension mismatch.\")\n",
    "else:\n",
    "    print(\"Matrix multiplication result:\")\n",
    "    print(result)"
   ]
  }
 ],
 "metadata": {
  "kernelspec": {
   "display_name": "Python 3",
   "language": "python",
   "name": "python3"
  },
  "language_info": {
   "codemirror_mode": {
    "name": "ipython",
    "version": 3
   },
   "file_extension": ".py",
   "mimetype": "text/x-python",
   "name": "python",
   "nbconvert_exporter": "python",
   "pygments_lexer": "ipython3",
   "version": "3.10.13"
  }
 },
 "nbformat": 4,
 "nbformat_minor": 2
}
