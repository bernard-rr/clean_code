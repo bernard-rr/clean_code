{
 "cells": [
  {
   "cell_type": "code",
   "execution_count": 1,
   "metadata": {},
   "outputs": [
    {
     "name": "stdout",
     "output_type": "stream",
     "text": [
      "NumPy Matrix Addition Result:\n",
      "[[ 8 10 12]\n",
      " [14 16 18]]\n",
      "\n",
      "NumPy Matrix Multiplication Result:\n",
      "[[19 22]\n",
      " [43 50]]\n"
     ]
    }
   ],
   "source": [
    "import numpy as np\n",
    "\n",
    "\n",
    "# Matrix addition using NumPy\n",
    "matrix1 = np.array([[1, 2, 3], [4, 5, 6]])\n",
    "matrix2 = np.array([[7, 8, 9], [10, 11, 12]])\n",
    "\n",
    "addition_result = matrix1 + matrix2\n",
    "print(\"NumPy Matrix Addition Result:\")\n",
    "print(addition_result)\n",
    "\n",
    "# Matrix multiplication using NumPy\n",
    "matrix3 = np.array([[1, 2], [3, 4]])\n",
    "matrix4 = np.array([[5, 6], [7, 8]])\n",
    "\n",
    "multiplication_result = np.dot(matrix3, matrix4)\n",
    "print(\"\\nNumPy Matrix Multiplication Result:\")\n",
    "print(multiplication_result)"
   ]
  }
 ],
 "metadata": {
  "kernelspec": {
   "display_name": "Python 3",
   "language": "python",
   "name": "python3"
  },
  "language_info": {
   "codemirror_mode": {
    "name": "ipython",
    "version": 3
   },
   "file_extension": ".py",
   "mimetype": "text/x-python",
   "name": "python",
   "nbconvert_exporter": "python",
   "pygments_lexer": "ipython3",
   "version": "3.10.13"
  }
 },
 "nbformat": 4,
 "nbformat_minor": 2
}
