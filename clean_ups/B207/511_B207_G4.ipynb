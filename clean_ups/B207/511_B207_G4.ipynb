{
 "cells": [
  {
   "cell_type": "code",
   "execution_count": 1,
   "metadata": {},
   "outputs": [
    {
     "name": "stdout",
     "output_type": "stream",
     "text": [
      "Matrix 2x3:\n",
      "[[1 2 3]\n",
      " [4 5 6]]\n",
      "Shape: (2, 3)\n",
      "\n",
      "Matrix 3x2:\n",
      "[[ 7  8]\n",
      " [ 9 10]\n",
      " [11 12]]\n",
      "Shape: (3, 2)\n",
      "\n",
      "Matrix 3x3:\n",
      "[[ 2  4  6]\n",
      " [ 8 10 12]\n",
      " [14 16 18]]\n",
      "Shape: (3, 3)\n",
      "\n",
      "Result of multiplying 2x3 and 3x2 matrices (2x2):\n",
      "[[ 58  64]\n",
      " [139 154]]\n",
      "Shape: (2, 2)\n"
     ]
    }
   ],
   "source": [
    "import numpy as np\n",
    "\n",
    "\n",
    "# Creating matrices of different dimensions\n",
    "matrix_2x3 = np.array([\n",
    "    [1, 2, 3],\n",
    "    [4, 5, 6]\n",
    "])\n",
    "\n",
    "matrix_3x2 = np.array([\n",
    "    [7, 8],\n",
    "    [9, 10],\n",
    "    [11, 12]\n",
    "])\n",
    "\n",
    "matrix_3x3 = np.array([\n",
    "    [2, 4, 6],\n",
    "    [8, 10, 12],\n",
    "    [14, 16, 18]\n",
    "])\n",
    "\n",
    "# Performing matrix operations with matrices of different dimensions\n",
    "print(\"Matrix 2x3:\")\n",
    "print(matrix_2x3)\n",
    "print(\"Shape:\", matrix_2x3.shape)\n",
    "\n",
    "print(\"\\nMatrix 3x2:\")\n",
    "print(matrix_3x2)\n",
    "print(\"Shape:\", matrix_3x2.shape)\n",
    "\n",
    "print(\"\\nMatrix 3x3:\")\n",
    "print(matrix_3x3)\n",
    "print(\"Shape:\", matrix_3x3.shape)\n",
    "\n",
    "# Multiplication example with matrices of different dimensions\n",
    "result_2x2 = np.dot(matrix_2x3, matrix_3x2)\n",
    "print(\"\\nResult of multiplying 2x3 and 3x2 matrices (2x2):\")\n",
    "print(result_2x2)\n",
    "print(\"Shape:\", result_2x2.shape)"
   ]
  }
 ],
 "metadata": {
  "kernelspec": {
   "display_name": "Python 3",
   "language": "python",
   "name": "python3"
  },
  "language_info": {
   "codemirror_mode": {
    "name": "ipython",
    "version": 3
   },
   "file_extension": ".py",
   "mimetype": "text/x-python",
   "name": "python",
   "nbconvert_exporter": "python",
   "pygments_lexer": "ipython3",
   "version": "3.10.13"
  }
 },
 "nbformat": 4,
 "nbformat_minor": 2
}
