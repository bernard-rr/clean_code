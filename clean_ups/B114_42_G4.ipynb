{
 "cells": [
  {
   "cell_type": "code",
   "execution_count": 2,
   "metadata": {},
   "outputs": [
    {
     "name": "stdout",
     "output_type": "stream",
     "text": [
      "Means of numerical columns:\n",
      " Age    32.333333\n",
      "dtype: float64\n",
      "Unique value counts in categorical columns:\n",
      " Name    3\n",
      "City    3\n",
      "dtype: int64\n",
      "Missing value percentages:\n",
      " Name    0.0\n",
      "Age     0.0\n",
      "City    0.0\n",
      "dtype: float64\n"
     ]
    },
    {
     "data": {
      "image/png": "[encoded data removed]",
      "text/plain": [
       "<Figure size 640x480 with 1 Axes>"
      ]
     },
     "metadata": {},
     "output_type": "display_data"
    }
   ],
   "source": [
    "import pandas as pd\n",
    "import matplotlib.pyplot as plt\n",
    "\n",
    "\n",
    "def calculate_numerical_means(df):\n",
    "    \"\"\"Calculate the mean of each numerical column in the DataFrame.\n",
    "\n",
    "    Args:\n",
    "    df (pd.DataFrame): The input DataFrame.\n",
    "\n",
    "    Returns:\n",
    "    pd.Series: A Series containing the mean of each numerical column.\n",
    "    \"\"\"\n",
    "    numerical_means = df.select_dtypes(include='number').mean()\n",
    "    return numerical_means\n",
    "\n",
    "\n",
    "def count_unique_categorical_values(df):\n",
    "    \"\"\"Count the number of unique values in each categorical column.\n",
    "\n",
    "    Args:\n",
    "    df (pd.DataFrame): The input DataFrame.\n",
    "\n",
    "    Returns:\n",
    "    pd.Series: A Series containing the unique value counts for each categorical column.\n",
    "    \"\"\"\n",
    "    unique_counts = df.select_dtypes(include='object').nunique()\n",
    "    return unique_counts\n",
    "\n",
    "\n",
    "def calculate_missing_value_percentages(df):\n",
    "    \"\"\"Calculate the percentage of missing values for each column.\n",
    "\n",
    "    Args:\n",
    "        df (pd.DataFrame): The input DataFrame.\n",
    "\n",
    "    Returns:\n",
    "        pd.Series: A Series containing the percentage of missing values for each column.\n",
    "    \"\"\"\n",
    "    # Calculate missing value percentages by column\n",
    "    missing_percentages = df.isnull().sum() * 100 / len(df)\n",
    "    return missing_percentages\n",
    "\n",
    "\n",
    "def plot_histogram_for_column(df, column_name):\n",
    "    \"\"\"\n",
    "    Creates a histogram for the specified numerical column in a DataFrame.\n",
    "\n",
    "    Args:\n",
    "    df (pandas.DataFrame): The DataFrame containing the data.\n",
    "    column_name (str): The name of the numerical column to plot the histogram for.\n",
    "\n",
    "    Returns:\n",
    "    None\n",
    "    \"\"\"\n",
    "    plt.figure()\n",
    "    df[column_name].hist()\n",
    "    plt.xlabel(column_name)\n",
    "    plt.ylabel(\"Frequency\")\n",
    "    plt.title(f\"Distribution of {column_name}\")\n",
    "    plt.show()\n",
    "\n",
    "\n",
    "# Load the CSV file\n",
    "file_path = '/workspaces/clean_code/sample_csv.csv'\n",
    "df = pd.read_csv(file_path)\n",
    "\n",
    "# Calculate means\n",
    "numerical_means = calculate_numerical_means(df)\n",
    "print(\"Means of numerical columns:\\n\", numerical_means)\n",
    "\n",
    "# Count unique values\n",
    "unique_counts = count_unique_categorical_values(df)\n",
    "print(\"Unique value counts in categorical columns:\\n\", unique_counts)\n",
    "\n",
    "# Calculate missing value percentages\n",
    "missing_percentages = calculate_missing_value_percentages(df)\n",
    "print(\"Missing value percentages:\\n\", missing_percentages)\n",
    "\n",
    "# Plot histogram for a specific column (e.g., 'Age')\n",
    "plot_histogram_for_column(df, \"Age\")\n"
   ]
  }
 ],
 "metadata": {
  "kernelspec": {
   "display_name": "Python 3",
   "language": "python",
   "name": "python3"
  },
  "language_info": {
   "codemirror_mode": {
    "name": "ipython",
    "version": 3
   },
   "file_extension": ".py",
   "mimetype": "text/x-python",
   "name": "python",
   "nbconvert_exporter": "python",
   "pygments_lexer": "ipython3",
   "version": "3.10.13"
  }
 },
 "nbformat": 4,
 "nbformat_minor": 2
}
